{
 "cells": [
  {
   "cell_type": "code",
   "execution_count": 100,
   "metadata": {},
   "outputs": [
    {
     "name": "stderr",
     "output_type": "stream",
     "text": [
      "Downloading 20news dataset. This may take a few minutes.\n",
      "Downloading dataset from https://ndownloader.figshare.com/files/5975967 (14 MB)\n"
     ]
    },
    {
     "name": "stdout",
     "output_type": "stream",
     "text": [
      ".. _20newsgroups_dataset:\n",
      "\n",
      "The 20 newsgroups text dataset\n",
      "------------------------------\n",
      "\n",
      "The 20 newsgroups dataset comprises around 18000 newsgroups posts on\n",
      "20 topics split in two subsets: one for training (or development)\n",
      "and the other one for testing (or for performance evaluation). The split\n",
      "between the train and test set is based upon a messages posted before\n",
      "and after a specific date.\n",
      "\n",
      "This module contains two loaders. The first one,\n",
      ":func:`sklearn.datasets.fetch_20newsgroups`,\n",
      "returns a list of the raw texts that can be fed to text feature\n",
      "extractors such as :class:`sklearn.feature_extraction.text.CountVectorizer`\n",
      "with custom parameters so as to extract feature vectors.\n",
      "The second one, :func:`sklearn.datasets.fetch_20newsgroups_vectorized`,\n",
      "returns ready-to-use features, i.e., it is not necessary to use a feature\n",
      "extractor.\n",
      "\n",
      "**Data Set Characteristics:**\n",
      "\n",
      "    =================   ==========\n",
      "    Classes                     20\n",
      "    Samples total            18846\n",
      "    Dimensionality               1\n",
      "    Features                  text\n",
      "    =================   ==========\n",
      "\n",
      "Usage\n",
      "~~~~~\n",
      "\n",
      "The :func:`sklearn.datasets.fetch_20newsgroups` function is a data\n",
      "fetching / caching functions that downloads the data archive from\n",
      "the original `20 newsgroups website`_, extracts the archive contents\n",
      "in the ``~/scikit_learn_data/20news_home`` folder and calls the\n",
      ":func:`sklearn.datasets.load_files` on either the training or\n",
      "testing set folder, or both of them::\n",
      "\n",
      "  >>> from sklearn.datasets import fetch_20newsgroups\n",
      "  >>> newsgroups_train = fetch_20newsgroups(subset='train')\n",
      "\n",
      "  >>> from pprint import pprint\n",
      "  >>> pprint(list(newsgroups_train.target_names))\n",
      "  ['alt.atheism',\n",
      "   'comp.graphics',\n",
      "   'comp.os.ms-windows.misc',\n",
      "   'comp.sys.ibm.pc.hardware',\n",
      "   'comp.sys.mac.hardware',\n",
      "   'comp.windows.x',\n",
      "   'misc.forsale',\n",
      "   'rec.autos',\n",
      "   'rec.motorcycles',\n",
      "   'rec.sport.baseball',\n",
      "   'rec.sport.hockey',\n",
      "   'sci.crypt',\n",
      "   'sci.electronics',\n",
      "   'sci.med',\n",
      "   'sci.space',\n",
      "   'soc.religion.christian',\n",
      "   'talk.politics.guns',\n",
      "   'talk.politics.mideast',\n",
      "   'talk.politics.misc',\n",
      "   'talk.religion.misc']\n",
      "\n",
      "The real data lies in the ``filenames`` and ``target`` attributes. The target\n",
      "attribute is the integer index of the category::\n",
      "\n",
      "  >>> newsgroups_train.filenames.shape\n",
      "  (11314,)\n",
      "  >>> newsgroups_train.target.shape\n",
      "  (11314,)\n",
      "  >>> newsgroups_train.target[:10]\n",
      "  array([ 7,  4,  4,  1, 14, 16, 13,  3,  2,  4])\n",
      "\n",
      "It is possible to load only a sub-selection of the categories by passing the\n",
      "list of the categories to load to the\n",
      ":func:`sklearn.datasets.fetch_20newsgroups` function::\n",
      "\n",
      "  >>> cats = ['alt.atheism', 'sci.space']\n",
      "  >>> newsgroups_train = fetch_20newsgroups(subset='train', categories=cats)\n",
      "\n",
      "  >>> list(newsgroups_train.target_names)\n",
      "  ['alt.atheism', 'sci.space']\n",
      "  >>> newsgroups_train.filenames.shape\n",
      "  (1073,)\n",
      "  >>> newsgroups_train.target.shape\n",
      "  (1073,)\n",
      "  >>> newsgroups_train.target[:10]\n",
      "  array([0, 1, 1, 1, 0, 1, 1, 0, 0, 0])\n",
      "\n",
      "Converting text to vectors\n",
      "~~~~~~~~~~~~~~~~~~~~~~~~~~\n",
      "\n",
      "In order to feed predictive or clustering models with the text data,\n",
      "one first need to turn the text into vectors of numerical values suitable\n",
      "for statistical analysis. This can be achieved with the utilities of the\n",
      "``sklearn.feature_extraction.text`` as demonstrated in the following\n",
      "example that extract `TF-IDF`_ vectors of unigram tokens\n",
      "from a subset of 20news::\n",
      "\n",
      "  >>> from sklearn.feature_extraction.text import TfidfVectorizer\n",
      "  >>> categories = ['alt.atheism', 'talk.religion.misc',\n",
      "  ...               'comp.graphics', 'sci.space']\n",
      "  >>> newsgroups_train = fetch_20newsgroups(subset='train',\n",
      "  ...                                       categories=categories)\n",
      "  >>> vectorizer = TfidfVectorizer()\n",
      "  >>> vectors = vectorizer.fit_transform(newsgroups_train.data)\n",
      "  >>> vectors.shape\n",
      "  (2034, 34118)\n",
      "\n",
      "The extracted TF-IDF vectors are very sparse, with an average of 159 non-zero\n",
      "components by sample in a more than 30000-dimensional space\n",
      "(less than .5% non-zero features)::\n",
      "\n",
      "  >>> vectors.nnz / float(vectors.shape[0])\n",
      "  159.01327...\n",
      "\n",
      ":func:`sklearn.datasets.fetch_20newsgroups_vectorized` is a function which \n",
      "returns ready-to-use token counts features instead of file names.\n",
      "\n",
      ".. _`20 newsgroups website`: http://people.csail.mit.edu/jrennie/20Newsgroups/\n",
      ".. _`TF-IDF`: https://en.wikipedia.org/wiki/Tf-idf\n",
      "\n",
      "\n",
      "Filtering text for more realistic training\n",
      "~~~~~~~~~~~~~~~~~~~~~~~~~~~~~~~~~~~~~~~~~~\n",
      "\n",
      "It is easy for a classifier to overfit on particular things that appear in the\n",
      "20 Newsgroups data, such as newsgroup headers. Many classifiers achieve very\n",
      "high F-scores, but their results would not generalize to other documents that\n",
      "aren't from this window of time.\n",
      "\n",
      "For example, let's look at the results of a multinomial Naive Bayes classifier,\n",
      "which is fast to train and achieves a decent F-score::\n",
      "\n",
      "  >>> from sklearn.naive_bayes import MultinomialNB\n",
      "  >>> from sklearn import metrics\n",
      "  >>> newsgroups_test = fetch_20newsgroups(subset='test',\n",
      "  ...                                      categories=categories)\n",
      "  >>> vectors_test = vectorizer.transform(newsgroups_test.data)\n",
      "  >>> clf = MultinomialNB(alpha=.01)\n",
      "  >>> clf.fit(vectors, newsgroups_train.target)\n",
      "  MultinomialNB(alpha=0.01, class_prior=None, fit_prior=True)\n",
      "\n",
      "  >>> pred = clf.predict(vectors_test)\n",
      "  >>> metrics.f1_score(newsgroups_test.target, pred, average='macro')\n",
      "  0.88213...\n",
      "\n",
      "(The example :ref:`sphx_glr_auto_examples_text_plot_document_classification_20newsgroups.py` shuffles\n",
      "the training and test data, instead of segmenting by time, and in that case\n",
      "multinomial Naive Bayes gets a much higher F-score of 0.88. Are you suspicious\n",
      "yet of what's going on inside this classifier?)\n",
      "\n",
      "Let's take a look at what the most informative features are:\n",
      "\n",
      "  >>> import numpy as np\n",
      "  >>> def show_top10(classifier, vectorizer, categories):\n",
      "  ...     feature_names = np.asarray(vectorizer.get_feature_names())\n",
      "  ...     for i, category in enumerate(categories):\n",
      "  ...         top10 = np.argsort(classifier.coef_[i])[-10:]\n",
      "  ...         print(\"%s: %s\" % (category, \" \".join(feature_names[top10])))\n",
      "  ...\n",
      "  >>> show_top10(clf, vectorizer, newsgroups_train.target_names)\n",
      "  alt.atheism: edu it and in you that is of to the\n",
      "  comp.graphics: edu in graphics it is for and of to the\n",
      "  sci.space: edu it that is in and space to of the\n",
      "  talk.religion.misc: not it you in is that and to of the\n",
      "\n",
      "\n",
      "You can now see many things that these features have overfit to:\n",
      "\n",
      "- Almost every group is distinguished by whether headers such as\n",
      "  ``NNTP-Posting-Host:`` and ``Distribution:`` appear more or less often.\n",
      "- Another significant feature involves whether the sender is affiliated with\n",
      "  a university, as indicated either by their headers or their signature.\n",
      "- The word \"article\" is a significant feature, based on how often people quote\n",
      "  previous posts like this: \"In article [article ID], [name] <[e-mail address]>\n",
      "  wrote:\"\n",
      "- Other features match the names and e-mail addresses of particular people who\n",
      "  were posting at the time.\n",
      "\n",
      "With such an abundance of clues that distinguish newsgroups, the classifiers\n",
      "barely have to identify topics from text at all, and they all perform at the\n",
      "same high level.\n",
      "\n",
      "For this reason, the functions that load 20 Newsgroups data provide a\n",
      "parameter called **remove**, telling it what kinds of information to strip out\n",
      "of each file. **remove** should be a tuple containing any subset of\n",
      "``('headers', 'footers', 'quotes')``, telling it to remove headers, signature\n",
      "blocks, and quotation blocks respectively.\n",
      "\n",
      "  >>> newsgroups_test = fetch_20newsgroups(subset='test',\n",
      "  ...                                      remove=('headers', 'footers', 'quotes'),\n",
      "  ...                                      categories=categories)\n",
      "  >>> vectors_test = vectorizer.transform(newsgroups_test.data)\n",
      "  >>> pred = clf.predict(vectors_test)\n",
      "  >>> metrics.f1_score(pred, newsgroups_test.target, average='macro')\n",
      "  0.77310...\n",
      "\n",
      "This classifier lost over a lot of its F-score, just because we removed\n",
      "metadata that has little to do with topic classification.\n",
      "It loses even more if we also strip this metadata from the training data:\n",
      "\n",
      "  >>> newsgroups_train = fetch_20newsgroups(subset='train',\n",
      "  ...                                       remove=('headers', 'footers', 'quotes'),\n",
      "  ...                                       categories=categories)\n",
      "  >>> vectors = vectorizer.fit_transform(newsgroups_train.data)\n",
      "  >>> clf = MultinomialNB(alpha=.01)\n",
      "  >>> clf.fit(vectors, newsgroups_train.target)\n",
      "  MultinomialNB(alpha=0.01, class_prior=None, fit_prior=True)\n",
      "\n",
      "  >>> vectors_test = vectorizer.transform(newsgroups_test.data)\n",
      "  >>> pred = clf.predict(vectors_test)\n",
      "  >>> metrics.f1_score(newsgroups_test.target, pred, average='macro')\n",
      "  0.76995...\n",
      "\n",
      "Some other classifiers cope better with this harder version of the task. Try\n",
      "running :ref:`sphx_glr_auto_examples_model_selection_grid_search_text_feature_extraction.py` with and without\n",
      "the ``--filter`` option to compare the results.\n",
      "\n",
      ".. topic:: Recommendation\n",
      "\n",
      "  When evaluating text classifiers on the 20 Newsgroups data, you\n",
      "  should strip newsgroup-related metadata. In scikit-learn, you can do this by\n",
      "  setting ``remove=('headers', 'footers', 'quotes')``. The F-score will be\n",
      "  lower because it is more realistic.\n",
      "\n",
      ".. topic:: Examples\n",
      "\n",
      "   * :ref:`sphx_glr_auto_examples_model_selection_grid_search_text_feature_extraction.py`\n",
      "\n",
      "   * :ref:`sphx_glr_auto_examples_text_plot_document_classification_20newsgroups.py`\n",
      "\n"
     ]
    }
   ],
   "source": [
    "from sklearn.datasets import fetch_20newsgroups\n",
    "newsgroups = fetch_20newsgroups(subset='all')\n",
    "print(newsgroups.DESCR)"
   ]
  },
  {
   "cell_type": "markdown",
   "metadata": {},
   "source": [
    "위 데이터는 20개의 뉴스 그룹 문서 데이터이며, 뉴스 내용, 주소와 무슨 뉴스인지 나와있다. \n",
    "\n",
    "Ex) 주소 : comp.graphics, 뉴스 종류 : 7\n",
    "\n",
    "아래는 뉴스 종류를 출력하는 것이다."
   ]
  },
  {
   "cell_type": "code",
   "execution_count": 101,
   "metadata": {
    "scrolled": true
   },
   "outputs": [
    {
     "name": "stdout",
     "output_type": "stream",
     "text": [
      "['alt.atheism',\n",
      " 'comp.graphics',\n",
      " 'comp.os.ms-windows.misc',\n",
      " 'comp.sys.ibm.pc.hardware',\n",
      " 'comp.sys.mac.hardware',\n",
      " 'comp.windows.x',\n",
      " 'misc.forsale',\n",
      " 'rec.autos',\n",
      " 'rec.motorcycles',\n",
      " 'rec.sport.baseball',\n",
      " 'rec.sport.hockey',\n",
      " 'sci.crypt',\n",
      " 'sci.electronics',\n",
      " 'sci.med',\n",
      " 'sci.space',\n",
      " 'soc.religion.christian',\n",
      " 'talk.politics.guns',\n",
      " 'talk.politics.mideast',\n",
      " 'talk.politics.misc',\n",
      " 'talk.religion.misc']\n"
     ]
    }
   ],
   "source": [
    "from pprint import pprint\n",
    "pprint(list(newsgroups.target_names))"
   ]
  },
  {
   "cell_type": "markdown",
   "metadata": {},
   "source": [
    "아래는 index번째 뉴스 내용과 그 index 번째의 뉴스가 무슨 뉴스인지 출력한다."
   ]
  },
  {
   "cell_type": "code",
   "execution_count": 102,
   "metadata": {},
   "outputs": [
    {
     "name": "stdout",
     "output_type": "stream",
     "text": [
      "From: mblawson@midway.ecn.uoknor.edu (Matthew B Lawson)\n",
      "Subject: Which high-performance VLB video card?\n",
      "Summary: Seek recommendations for VLB video card\n",
      "Nntp-Posting-Host: midway.ecn.uoknor.edu\n",
      "Organization: Engineering Computer Network, University of Oklahoma, Norman, OK, USA\n",
      "Keywords: orchid, stealth, vlb\n",
      "Lines: 21\n",
      "\n",
      "  My brother is in the market for a high-performance video card that supports\n",
      "VESA local bus with 1-2MB RAM.  Does anyone have suggestions/ideas on:\n",
      "\n",
      "  - Diamond Stealth Pro Local Bus\n",
      "\n",
      "  - Orchid Farenheit 1280\n",
      "\n",
      "  - ATI Graphics Ultra Pro\n",
      "\n",
      "  - Any other high-performance VLB card\n",
      "\n",
      "\n",
      "Please post or email.  Thank you!\n",
      "\n",
      "  - Matt\n",
      "\n",
      "-- \n",
      "    |  Matthew B. Lawson <------------> (mblawson@essex.ecn.uoknor.edu)  |   \n",
      "  --+-- \"Now I, Nebuchadnezzar, praise and exalt and glorify the King  --+-- \n",
      "    |   of heaven, because everything he does is right and all his ways  |   \n",
      "    |   are just.\" - Nebuchadnezzar, king of Babylon, 562 B.C.           |   \n",
      "\n",
      "================================================================================\n",
      "comp.sys.ibm.pc.hardware\n"
     ]
    }
   ],
   "source": [
    "print(newsgroups.data[1])\n",
    "print(\"=\" * 80)\n",
    "print(newsgroups.target_names[newsgroups.target[1]])"
   ]
  },
  {
   "cell_type": "code",
   "execution_count": 104,
   "metadata": {},
   "outputs": [
    {
     "data": {
      "text/plain": [
       "15"
      ]
     },
     "execution_count": 104,
     "metadata": {},
     "output_type": "execute_result"
    }
   ],
   "source": [
    "newsgroups.target[300]"
   ]
  },
  {
   "cell_type": "code",
   "execution_count": 118,
   "metadata": {},
   "outputs": [
    {
     "name": "stdout",
     "output_type": "stream",
     "text": [
      "From: sandvik@newton.apple.com (Kent Sandvik)\n",
      "Subject: Re: 14 Apr 93   God's Promise in 1 John 1: 7\n",
      "Organization: Cookamunga Tourist Bureau\n",
      "Lines: 17\n",
      "\n",
      "In article <1qknu0INNbhv@shelley.u.washington.edu>, > Christian:  washed in\n",
      "the blood of the lamb.\n",
      "> Mithraist:  washed in the blood of the bull.\n",
      "> \n",
      "> If anyone in .netland is in the process of devising a new religion,\n",
      "> do not use the lamb or the bull, because they have already been\n",
      "> reserved.  Please choose another animal, preferably one not\n",
      "> on the Endangered Species List.  \n",
      "\n",
      "This will be a hard task, because most cultures used most animals\n",
      "for blood sacrifices. It has to be something related to our current\n",
      "post-modernism state. Hmm, what about used computers?\n",
      "\n",
      "Cheers,\n",
      "Kent\n",
      "---\n",
      "sandvik@newton.apple.com. ALink: KSAND -- Private activities on the net.\n",
      "\n",
      "{'bull.', 'Promise', 'Bureau', 'cultures', 'Cheers,', 'the', 'If', 'has', '1:', '14', 'not', 'hard', 'new', 'Apr', 'From:', 'animal,', 'sacrifices.', 'ALink:', '17', 'lamb', 'preferably', 'bull,', '<1qknu0INNbhv@shelley.u.washington.edu>,', 'anyone', 'Tourist', 'on', 'related', 'Private', 'devising', 'current', 'article', 'Subject:', '.netland', 'for', '(Kent', 'to', 'already', '---', 'been', 'in', 'Hmm,', 'net.', 'lamb.', 'sandvik@newton.apple.com.', 'they', 'state.', 'blood', 'because', 'used', 'is', 'Please', 'sandvik@newton.apple.com', 'do', \"God's\", '1', 'choose', 'our', 'Cookamunga', 'be', 'Organization:', 'religion,', 'one', 'List.', 'It', 'or', 'Re:', 'something', '>', 'animals', '7', 'will', 'KSAND', 'process', 'Mithraist:', '93', 'Species', 'what', 'activities', 'most', 'Kent', 'about', '--', 'use', 'another', 'This', 'task,', 'Endangered', 'Sandvik)', 'reserved.', 'In', 'washed', 'John', 'Christian:', 'Lines:', 'a', 'of', 'computers?', 'have', 'post-modernism'}\n"
     ]
    }
   ],
   "source": [
    "print(newsgroups.data[10])\n",
    "print(set(newsgroups.data[10].split()))"
   ]
  },
  {
   "cell_type": "code",
   "execution_count": 119,
   "metadata": {},
   "outputs": [
    {
     "name": "stdout",
     "output_type": "stream",
     "text": [
      "From: arromdee@jyusenkyou.cs.jhu.edu (Ken Arromdee)\n",
      "Subject: Re: Christians above the Law? was Clarification of pe\n",
      "Organization: Johns Hopkins University CS Dept.\n",
      "Lines: 13\n",
      "\n",
      "In article <C61Kow.E4z@mailer.cc.fsu.edu> dlecoint@garnet.acns.fsu.edu (Darius_Lecointe) writes:\n",
      ">>Jesus was a JEW, not a Christian.\n",
      "\n",
      "If a Christian means someone who believes in the divinity of Jesus, it is safe\n",
      "to say that Jesus was a Christian.\n",
      "--\n",
      "\"On the first day after Christmas my truelove served to me...  Leftover Turkey!\n",
      "On the second day after Christmas my truelove served to me...  Turkey Casserole\n",
      "    that she made from Leftover Turkey.\n",
      "[days 3-4 deleted] ...  Flaming Turkey Wings! ...\n",
      "   -- Pizza Hut commercial (and M*tlu/A*gic bait)\n",
      "\n",
      "Ken Arromdee (arromdee@jyusenkyou.cs.jhu.edu)\n",
      "\n",
      "{'Christian.', 'Casserole', 'Leftover', 'Wings!', 'above', 'first', 'it', 'say', 'the', 'from', 'Jesus', 'If', 'Arromdee)', 'me...', 'not', '...', 'From:', '<C61Kow.E4z@mailer.cc.fsu.edu>', 'served', '(and', '>>Jesus', '\"On', 'University', '13', 'Clarification', 'Dept.', 'Turkey.', 'my', 'Christians', 'pe', 'article', 'Subject:', 'to', 'Pizza', '(Darius_Lecointe)', 'Christian', 'Hopkins', 'in', 'CS', 'Flaming', 'made', 'Turkey!', 'someone', 'Johns', 'arromdee@jyusenkyou.cs.jhu.edu', 'safe', '(Ken', '[days', 'Ken', 'is', 'writes:', 'deleted]', 'JEW,', 'means', 'that', 'Arromdee', '3-4', 'Jesus,', 'who', 'Organization:', 'bait)', 'she', 'Hut', 'Re:', 'Christmas', 'after', 'dlecoint@garnet.acns.fsu.edu', 'was', 'Law?', 'second', 'believes', 'commercial', 'Turkey', '--', 'divinity', 'day', '(arromdee@jyusenkyou.cs.jhu.edu)', 'M*tlu/A*gic', 'In', 'a', 'Lines:', 'truelove', 'On', 'of'}\n"
     ]
    }
   ],
   "source": [
    "print(newsgroups.data[9])\n",
    "print(set(newsgroups.data[9].split()))"
   ]
  },
  {
   "cell_type": "code",
   "execution_count": 120,
   "metadata": {},
   "outputs": [
    {
     "name": "stdout",
     "output_type": "stream",
     "text": [
      "From: dchhabra@stpl.ists.ca (Deepak Chhabra)\n",
      "Subject: Re: Goalie masks\n",
      "Nntp-Posting-Host: stpl.ists.ca\n",
      "Organization: Solar Terresterial Physics Laboratory, ISTS\n",
      "Lines: 15\n",
      "\n",
      "In article <C5sqz3.EG8@acsu.buffalo.edu> hammerl@acsu.buffalo.edu (Valerie S. Hammerl) writes:\n",
      "\n",
      ">>[...] and I'll give Fuhr's new one an honourable mention, although I haven't\n",
      ">>seen it closely yet (it looked good from a distance!).  \n",
      "\n",
      ">This is the new Buffalo one, the second since he's been with the\n",
      ">Sabres?  I recall a price tag of over $700 just for the paint job on\n",
      ">that mask, and a total price of almost $1500.  Ouch.  \n",
      "\n",
      "Yeah, it's the second one.  And I believe that price too.  I've been trying\n",
      "to get a good look at it on the Bruin-Sabre telecasts, and wow! does it ever\n",
      "look good.  Whoever did that paint job knew what they were doing.  And given\n",
      "Fuhr's play since he got it, I bet the Bruins are wishing he didn't have it:)\n",
      "\n",
      "--\n",
      "\n",
      "{'S.', \"haven't\", 'get', 'just', 'although', 'give', 'price', 'closely', 'it', 'the', 'trying', 'from', '(Valerie', 'Buffalo', 'were', 'hammerl@acsu.buffalo.edu', 'new', 'got', 'masks', 'From:', 'mask,', 'look', 'are', 'total', 'tag', 'stpl.ists.ca', '>>[...]', 'on', 'and', 'Physics', 'mention,', 'one.', 'article', 'Subject:', 'for', \"didn't\", 'And', 'to', 'Solar', 'it:)', 'at', 'it,', 'been', 'Laboratory,', 'doing.', 'too.', 'job', 'they', 'Nntp-Posting-Host:', 'Terresterial', '>This', 'bet', 'he', \"Fuhr's\", 'ever', 'Whoever', \"I'll\", 'yet', 'is', 'writes:', 'looked', 'since', 'that', '15', 'over', 'recall', 'does', 'Ouch.', 'believe', 'play', 'did', 'Organization:', 'telecasts,', 'paint', 'one', '$1500.', 'dchhabra@stpl.ists.ca', 'Re:', 'wow!', 'Bruins', \"he's\", 'good', 'good.', 'ISTS', '$700', '>Sabres?', 'Bruin-Sabre', 'second', '<C5sqz3.EG8@acsu.buffalo.edu>', 'Goalie', 'honourable', 'what', \"I've\", 'Yeah,', '--', 'given', 'Chhabra)', \"it's\", '(it', '>>seen', 'one,', 'Hammerl)', 'In', '>that', 'wishing', 'distance!).', 'a', 'Lines:', 'almost', '(Deepak', 'I', 'an', 'of', 'knew', 'have', 'with'}\n"
     ]
    }
   ],
   "source": [
    "print(newsgroups.data[8])\n",
    "print(set(newsgroups.data[8].split()))"
   ]
  },
  {
   "cell_type": "code",
   "execution_count": 125,
   "metadata": {},
   "outputs": [
    {
     "name": "stdout",
     "output_type": "stream",
     "text": [
      "['From:', 'dchhabra@stpl.ists.ca', '(Deepak', 'Chhabra)', 'Subject:', 'Re:', 'Goalie', 'masks', 'Nntp-Posting-Host:', 'stpl.ists.ca', 'Organization:', 'Solar', 'Terresterial', 'Physics', 'Laboratory,', 'ISTS', 'Lines:', '15', 'In', 'article', '<C5sqz3.EG8@acsu.buffalo.edu>', 'hammerl@acsu.buffalo.edu', '(Valerie', 'S.', 'Hammerl)', 'writes:', '>>[...]', 'and', \"I'll\", 'give', \"Fuhr's\", 'new', 'one', 'an', 'honourable', 'mention,', 'although', 'I', \"haven't\", '>>seen', 'it', 'closely', 'yet', '(it', 'looked', 'good', 'from', 'a', 'distance!).', '>This', 'is', 'the', 'new', 'Buffalo', 'one,', 'the', 'second', 'since', \"he's\", 'been', 'with', 'the', '>Sabres?', 'I', 'recall', 'a', 'price', 'tag', 'of', 'over', '$700', 'just', 'for', 'the', 'paint', 'job', 'on', '>that', 'mask,', 'and', 'a', 'total', 'price', 'of', 'almost', '$1500.', 'Ouch.', 'Yeah,', \"it's\", 'the', 'second', 'one.', 'And', 'I', 'believe', 'that', 'price', 'too.', \"I've\", 'been', 'trying', 'to', 'get', 'a', 'good', 'look', 'at', 'it', 'on', 'the', 'Bruin-Sabre', 'telecasts,', 'and', 'wow!', 'does', 'it', 'ever', 'look', 'good.', 'Whoever', 'did', 'that', 'paint', 'job', 'knew', 'what', 'they', 'were', 'doing.', 'And', 'given', \"Fuhr's\", 'play', 'since', 'he', 'got', 'it,', 'I', 'bet', 'the', 'Bruins', 'are', 'wishing', 'he', \"didn't\", 'have', 'it:)', '--']\n",
      "16\n"
     ]
    }
   ],
   "source": [
    "# print(newsgroups.data[8][0])\n",
    "a=list(newsgroups.data[8].split())\n",
    "print(a)\n",
    "num = a.index(\"Lines:\")\n",
    "print()\n",
    "for a in "
   ]
  },
  {
   "cell_type": "markdown",
   "metadata": {},
   "source": [
    "유방암이나 수종 데이터 예제에서는 모든 특징이 수치 혹은 종류였기 때문에 높고 낮음, 혹은 종류가 맞고 틀리고를 분기조건으로 확실하게 YES 나 NO로 나눌 수 있었는데, \n",
    "\n",
    "text 데이터는 YES나 NO로 분기하기 위한 조건을 찾기 어렵다.  \n",
    "-> 단어의 있고 없음을 따지기에는 동음이의어나 문맥에 따라 바뀌는 단어 의미 등을 고려하지 못한다.  \n",
    "-> text가 나타내는 것을 분석한 뒤 그에 맞는 주제를 정해야 하는데 text의 어디를 특징으로 잡아 Yes와 No에 넣을 것인지를 정하기 어렵다.  "
   ]
  }
 ],
 "metadata": {
  "kernelspec": {
   "display_name": "Python 3",
   "language": "python",
   "name": "python3"
  },
  "language_info": {
   "codemirror_mode": {
    "name": "ipython",
    "version": 3
   },
   "file_extension": ".py",
   "mimetype": "text/x-python",
   "name": "python",
   "nbconvert_exporter": "python",
   "pygments_lexer": "ipython3",
   "version": "3.7.6"
  }
 },
 "nbformat": 4,
 "nbformat_minor": 4
}
